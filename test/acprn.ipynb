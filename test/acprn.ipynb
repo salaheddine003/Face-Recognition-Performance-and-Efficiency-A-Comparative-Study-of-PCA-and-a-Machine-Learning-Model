{
 "cells": [
  {
   "cell_type": "code",
   "execution_count": 3,
   "id": "98d76fcc-a65d-45e2-843e-c4b9c5201f2b",
   "metadata": {},
   "outputs": [
    {
     "ename": "FileNotFoundError",
     "evalue": "[WinError 3] Le chemin d’accès spécifié est introuvable: 'C:/Users/HOME/dacpvsrn\\\\train'",
     "output_type": "error",
     "traceback": [
      "\u001b[1;31m---------------------------------------------------------------------------\u001b[0m",
      "\u001b[1;31mFileNotFoundError\u001b[0m                         Traceback (most recent call last)",
      "Cell \u001b[1;32mIn[3], line 30\u001b[0m\n\u001b[0;32m     27\u001b[0m train_folder \u001b[38;5;241m=\u001b[39m os\u001b[38;5;241m.\u001b[39mpath\u001b[38;5;241m.\u001b[39mjoin(base_folder, \u001b[38;5;124m'\u001b[39m\u001b[38;5;124mtrain\u001b[39m\u001b[38;5;124m'\u001b[39m)\n\u001b[0;32m     28\u001b[0m test_folder \u001b[38;5;241m=\u001b[39m os\u001b[38;5;241m.\u001b[39mpath\u001b[38;5;241m.\u001b[39mjoin(base_folder, \u001b[38;5;124m'\u001b[39m\u001b[38;5;124mtest\u001b[39m\u001b[38;5;124m'\u001b[39m)\n\u001b[1;32m---> 30\u001b[0m X_train \u001b[38;5;241m=\u001b[39m load_and_preprocess_data(train_folder)\n\u001b[0;32m     31\u001b[0m X_test \u001b[38;5;241m=\u001b[39m load_and_preprocess_data(test_folder)\n\u001b[0;32m     33\u001b[0m \u001b[38;5;66;03m# 3. Vérifier que les données sont bien chargées\u001b[39;00m\n",
      "Cell \u001b[1;32mIn[3], line 14\u001b[0m, in \u001b[0;36mload_and_preprocess_data\u001b[1;34m(folder_path)\u001b[0m\n\u001b[0;32m     12\u001b[0m \u001b[38;5;28;01mdef\u001b[39;00m \u001b[38;5;21mload_and_preprocess_data\u001b[39m(folder_path):\n\u001b[0;32m     13\u001b[0m     images \u001b[38;5;241m=\u001b[39m []\n\u001b[1;32m---> 14\u001b[0m     \u001b[38;5;28;01mfor\u001b[39;00m img_name \u001b[38;5;129;01min\u001b[39;00m os\u001b[38;5;241m.\u001b[39mlistdir(folder_path):\n\u001b[0;32m     15\u001b[0m         img_path \u001b[38;5;241m=\u001b[39m os\u001b[38;5;241m.\u001b[39mpath\u001b[38;5;241m.\u001b[39mjoin(folder_path, img_name)\n\u001b[0;32m     16\u001b[0m         img \u001b[38;5;241m=\u001b[39m cv2\u001b[38;5;241m.\u001b[39mimread(img_path, cv2\u001b[38;5;241m.\u001b[39mIMREAD_GRAYSCALE)  \u001b[38;5;66;03m# Charger en niveaux de gris\u001b[39;00m\n",
      "\u001b[1;31mFileNotFoundError\u001b[0m: [WinError 3] Le chemin d’accès spécifié est introuvable: 'C:/Users/HOME/dacpvsrn\\\\train'"
     ]
    }
   ],
   "source": [
    "import os\n",
    "import cv2\n",
    "import numpy as np\n",
    "from tensorflow.keras.applications import VGG16\n",
    "from tensorflow.keras import layers, models\n",
    "from tensorflow.keras.preprocessing.image import ImageDataGenerator\n",
    "from sklearn.metrics import accuracy_score, confusion_matrix\n",
    "import seaborn as sns\n",
    "import matplotlib.pyplot as plt\n",
    "\n",
    "# 1. Fonction pour charger et prétraiter les données d'images en niveaux de gris\n",
    "def load_and_preprocess_data(folder_path):\n",
    "    images = []\n",
    "    for img_name in os.listdir(folder_path):\n",
    "        img_path = os.path.join(folder_path, img_name)\n",
    "        img = cv2.imread(img_path, cv2.IMREAD_GRAYSCALE)  # Charger en niveaux de gris\n",
    "        img = cv2.resize(img, (128, 128))  # Redimensionner les images\n",
    "        images.append(img)\n",
    "    \n",
    "    images = np.array(images)\n",
    "    images = images / 255.0  # Normalisation des pixels à la plage [0, 1]\n",
    "    images = np.expand_dims(images, axis=-1)  # Ajouter une dimension pour conv2D\n",
    "    return images\n",
    "\n",
    "# 2. Charger et prétraiter les données\n",
    "base_folder = 'C:/Users/HOME/dacpvsrn'  # Remplace par ton chemin correct\n",
    "train_folder = os.path.join(base_folder, 'train')\n",
    "test_folder = os.path.join(base_folder, 'test')\n",
    "\n",
    "X_train = load_and_preprocess_data(train_folder)\n",
    "X_test = load_and_preprocess_data(test_folder)\n",
    "\n",
    "# 3. Vérifier que les données sont bien chargées\n",
    "if X_train is None or X_test is None:\n",
    "    print(\"Les données n'ont pas été chargées correctement. Veuillez vérifier les chemins.\")\n",
    "else:\n",
    "    print(f\"X_train shape: {X_train.shape}\")\n",
    "    print(f\"X_test shape: {X_test.shape}\")\n",
    "\n",
    "# 4. Convertir les images en RGB (reproduire les canaux pour chaque image en niveaux de gris)\n",
    "X_train_rgb = np.concatenate([X_train] * 3, axis=-1)  # Convertir en RGB\n",
    "X_test_rgb = np.concatenate([X_test] * 3, axis=-1)\n",
    "\n",
    "# 5. Charger le modèle VGG16 pré-entraîné sans les couches supérieures\n",
    "vgg16_model = VGG16(include_top=False, input_shape=(128, 128, 3))\n",
    "\n",
    "# 6. Construire un modèle basé sur VGG16\n",
    "model = models.Sequential()\n",
    "model.add(vgg16_model)  # Utiliser VGG16 comme base\n",
    "model.add(layers.Flatten())\n",
    "model.add(layers.Dense(256, activation='relu'))\n",
    "model.add(layers.Dense(10, activation='softmax'))  # Par exemple, pour 10 classes\n",
    "\n",
    "# 7. Compiler le modèle\n",
    "model.compile(optimizer='adam', loss='sparse_categorical_crossentropy', metrics=['accuracy'])\n",
    "\n",
    "# 8. Entraîner le modèle (assurez-vous que y_train et y_test sont correctement définis)\n",
    "y_train = np.arange(len(X_train_rgb))  # Étiquettes factices, à remplacer par vos vraies étiquettes\n",
    "y_test = np.arange(len(X_test_rgb))    # Étiquettes factices, à remplacer par vos vraies étiquettes\n",
    "\n",
    "model.fit(X_train_rgb, y_train, epochs=10, batch_size=32, validation_data=(X_test_rgb, y_test))\n",
    "\n",
    "# 9. Prédiction et évaluation\n",
    "y_pred = np.argmax(model.predict(X_test_rgb), axis=1)\n",
    "accuracy = accuracy_score(y_test, y_pred)\n",
    "print(f\"Accuracy: {accuracy * 100:.2f}%\")\n",
    "\n",
    "# 10. Matrice de confusion\n",
    "def plot_confusion_matrix(true_labels, predicted_labels, title):\n",
    "    cm = confusion_matrix(true_labels, predicted_labels)\n",
    "    plt.figure(figsize=(8, 6))\n",
    "    sns.heatmap(cm, annot=True, fmt='d', cmap='Blues')\n",
    "    plt.title(f\"Confusion Matrix: {title}\")\n",
    "    plt.ylabel('True Label')\n",
    "    plt.xlabel('Predicted Label')\n",
    "    plt.show()\n",
    "\n",
    "plot_confusion_matrix(y_test, y_pred, \"Confusion Matrix for VGG16 Model\")\n"
   ]
  },
  {
   "cell_type": "code",
   "execution_count": 4,
   "id": "bb863461-7ff8-435b-bbb1-3cd71504db24",
   "metadata": {},
   "outputs": [
    {
     "ename": "FileNotFoundError",
     "evalue": "[WinError 3] Le chemin d’accès spécifié est introuvable: 'C:/Users/HOME/dacpvsrn\\\\all_images'",
     "output_type": "error",
     "traceback": [
      "\u001b[1;31m---------------------------------------------------------------------------\u001b[0m",
      "\u001b[1;31mFileNotFoundError\u001b[0m                         Traceback (most recent call last)",
      "Cell \u001b[1;32mIn[4], line 21\u001b[0m\n\u001b[0;32m     18\u001b[0m     os\u001b[38;5;241m.\u001b[39mmakedirs(test_folder)\n\u001b[0;32m     20\u001b[0m \u001b[38;5;66;03m# 4. Lister toutes les images dans le dossier all_images\u001b[39;00m\n\u001b[1;32m---> 21\u001b[0m image_files \u001b[38;5;241m=\u001b[39m [f \u001b[38;5;28;01mfor\u001b[39;00m f \u001b[38;5;129;01min\u001b[39;00m os\u001b[38;5;241m.\u001b[39mlistdir(all_images_folder) \u001b[38;5;28;01mif\u001b[39;00m os\u001b[38;5;241m.\u001b[39mpath\u001b[38;5;241m.\u001b[39misfile(os\u001b[38;5;241m.\u001b[39mpath\u001b[38;5;241m.\u001b[39mjoin(all_images_folder, f))]\n\u001b[0;32m     23\u001b[0m \u001b[38;5;66;03m# 5. Mélanger les images pour les diviser aléatoirement\u001b[39;00m\n\u001b[0;32m     24\u001b[0m random\u001b[38;5;241m.\u001b[39mshuffle(image_files)\n",
      "\u001b[1;31mFileNotFoundError\u001b[0m: [WinError 3] Le chemin d’accès spécifié est introuvable: 'C:/Users/HOME/dacpvsrn\\\\all_images'"
     ]
    }
   ],
   "source": [
    "import os\n",
    "import shutil\n",
    "import random\n",
    "\n",
    "# 1. Définir le chemin du dossier contenant toutes les images\n",
    "base_folder = 'C:/Users/HOME/dacpvsrn'  # Remplace par ton chemin\n",
    "all_images_folder = os.path.join(base_folder, 'all_images')  # Ce dossier doit contenir toutes les images\n",
    "\n",
    "# 2. Définir les chemins pour les dossiers train et test\n",
    "train_folder = os.path.join(base_folder, 'train')\n",
    "test_folder = os.path.join(base_folder, 'test')\n",
    "\n",
    "# 3. Créer les dossiers train et test s'ils n'existent pas\n",
    "if not os.path.exists(train_folder):\n",
    "    os.makedirs(train_folder)\n",
    "\n",
    "if not os.path.exists(test_folder):\n",
    "    os.makedirs(test_folder)\n",
    "\n",
    "# 4. Lister toutes les images dans le dossier all_images\n",
    "image_files = [f for f in os.listdir(all_images_folder) if os.path.isfile(os.path.join(all_images_folder, f))]\n",
    "\n",
    "# 5. Mélanger les images pour les diviser aléatoirement\n",
    "random.shuffle(image_files)\n",
    "\n",
    "# 6. Diviser les images : 80% pour l'entraînement et 20% pour le test\n",
    "split_index = int(0.8 * len(image_files))\n",
    "train_files = image_files[:split_index]\n",
    "test_files = image_files[split_index:]\n",
    "\n",
    "# 7. Déplacer les fichiers dans les dossiers appropriés\n",
    "for file_name in train_files:\n",
    "    shutil.move(os.path.join(all_images_folder, file_name), os.path.join(train_folder, file_name))\n",
    "\n",
    "for file_name in test_files:\n",
    "    shutil.move(os.path.join(all_images_folder, file_name), os.path.join(test_folder, file_name))\n",
    "\n",
    "# Vérification\n",
    "print(f\"Images déplacées dans {train_folder}: {len(train_files)}\")\n",
    "print(f\"Images déplacées dans {test_folder}: {len(test_files)}\")\n"
   ]
  },
  {
   "cell_type": "code",
   "execution_count": 5,
   "id": "afd1bec8-6682-4f1d-9de3-17e7e364b8c0",
   "metadata": {},
   "outputs": [],
   "source": [
    "# Remplacer le chemin par celui où les images sont réellement stockées\n",
    "all_images_folder = base_folder  # Si les images sont directement dans 'C:/Users/HOME/dacpvsrn'\n"
   ]
  },
  {
   "cell_type": "code",
   "execution_count": 6,
   "id": "ae64c008-1625-4eeb-b3da-eb900b776794",
   "metadata": {},
   "outputs": [
    {
     "name": "stdout",
     "output_type": "stream",
     "text": [
      "Images déplacées dans C:/Users/HOME/dacpvsrn\\train: 244\n",
      "Images déplacées dans C:/Users/HOME/dacpvsrn\\test: 62\n"
     ]
    }
   ],
   "source": [
    "import os\n",
    "import shutil\n",
    "import random\n",
    "\n",
    "# 1. Définir le chemin du dossier contenant toutes les images\n",
    "base_folder = 'C:/Users/HOME/dacpvsrn'  # Remplace par ton chemin\n",
    "all_images_folder = base_folder  # Ce dossier doit contenir toutes les images\n",
    "\n",
    "# 2. Définir les chemins pour les dossiers train et test\n",
    "train_folder = os.path.join(base_folder, 'train')\n",
    "test_folder = os.path.join(base_folder, 'test')\n",
    "\n",
    "# 3. Créer les dossiers train et test s'ils n'existent pas\n",
    "if not os.path.exists(train_folder):\n",
    "    os.makedirs(train_folder)\n",
    "\n",
    "if not os.path.exists(test_folder):\n",
    "    os.makedirs(test_folder)\n",
    "\n",
    "# 4. Lister toutes les images dans le dossier all_images\n",
    "image_files = [f for f in os.listdir(all_images_folder) if os.path.isfile(os.path.join(all_images_folder, f))]\n",
    "\n",
    "# 5. Mélanger les images pour les diviser aléatoirement\n",
    "random.shuffle(image_files)\n",
    "\n",
    "# 6. Diviser les images : 80% pour l'entraînement et 20% pour le test\n",
    "split_index = int(0.8 * len(image_files))\n",
    "train_files = image_files[:split_index]\n",
    "test_files = image_files[split_index:]\n",
    "\n",
    "# 7. Déplacer les fichiers dans les dossiers appropriés\n",
    "for file_name in train_files:\n",
    "    shutil.move(os.path.join(all_images_folder, file_name), os.path.join(train_folder, file_name))\n",
    "\n",
    "for file_name in test_files:\n",
    "    shutil.move(os.path.join(all_images_folder, file_name), os.path.join(test_folder, file_name))\n",
    "\n",
    "# Vérification\n",
    "print(f\"Images déplacées dans {train_folder}: {len(train_files)}\")\n",
    "print(f\"Images déplacées dans {test_folder}: {len(test_files)}\")\n"
   ]
  },
  {
   "cell_type": "code",
   "execution_count": null,
   "id": "7ed34fb0-ea11-45fb-9b91-b0a47b12b970",
   "metadata": {},
   "outputs": [],
   "source": []
  },
  {
   "cell_type": "code",
   "execution_count": null,
   "id": "10fa5e1c-86b6-4b87-aa60-13428ea8e1bf",
   "metadata": {},
   "outputs": [],
   "source": []
  },
  {
   "cell_type": "code",
   "execution_count": null,
   "id": "82cc07ec-405d-4083-8134-ac697bd61a1a",
   "metadata": {},
   "outputs": [],
   "source": []
  },
  {
   "cell_type": "code",
   "execution_count": null,
   "id": "e5961410-334e-4a6b-8031-2c7aa4e5922a",
   "metadata": {},
   "outputs": [],
   "source": []
  },
  {
   "cell_type": "code",
   "execution_count": null,
   "id": "92875efe-dda6-49c7-a928-08022e35f7df",
   "metadata": {},
   "outputs": [],
   "source": []
  },
  {
   "cell_type": "code",
   "execution_count": null,
   "id": "8cfaf512-23c3-4f80-924c-7de4f1a5f680",
   "metadata": {},
   "outputs": [],
   "source": []
  },
  {
   "cell_type": "code",
   "execution_count": null,
   "id": "0ce06399-daeb-4949-b979-4dab8a06f829",
   "metadata": {},
   "outputs": [],
   "source": []
  },
  {
   "cell_type": "code",
   "execution_count": null,
   "id": "d4ea73e7-ec3c-448d-a6e6-49380889a047",
   "metadata": {},
   "outputs": [],
   "source": []
  }
 ],
 "metadata": {
  "kernelspec": {
   "display_name": "Python 3 (ipykernel)",
   "language": "python",
   "name": "python3"
  },
  "language_info": {
   "codemirror_mode": {
    "name": "ipython",
    "version": 3
   },
   "file_extension": ".py",
   "mimetype": "text/x-python",
   "name": "python",
   "nbconvert_exporter": "python",
   "pygments_lexer": "ipython3",
   "version": "3.11.7"
  }
 },
 "nbformat": 4,
 "nbformat_minor": 5
}
